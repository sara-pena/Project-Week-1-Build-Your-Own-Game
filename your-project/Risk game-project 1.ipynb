{
 "cells": [
  {
   "cell_type": "code",
   "execution_count": 1,
   "metadata": {},
   "outputs": [
    {
     "name": "stdout",
     "output_type": "stream",
     "text": [
      "Please insert Player 1 name: sasa\n",
      "Please insert Player 2 name: dede\n"
     ]
    }
   ],
   "source": [
    "import collections \n",
    "import time\n",
    "import random\n",
    "territories=[\"Asgard\", \"Helheim\", \"Midgard\"]\n",
    "territories_b=[]\n",
    "territories_c=[]\n",
    "\n",
    "b=input(\"Please insert Player 1 name: \")\n",
    "c=input(\"Please insert Player 2 name: \")\n",
    "players=[b, c]\n",
    "\n",
    "active_player=b"
   ]
  },
  {
   "cell_type": "code",
   "execution_count": 2,
   "metadata": {},
   "outputs": [],
   "source": [
    "def battle(attacker, defender):\n",
    "    print (\"Throwing the dice...\")\n",
    "    attacker_value=random.randint(1,6)\n",
    "    defender_value=random.randint(1,6)\n",
    "    time.sleep(1.5)\n",
    "    print(attacker, \" gets \", attacker_value)\n",
    "    print(defender, \" gets \", defender_value)\n",
    "    if defender_value > attacker_value or defender_value == attacker_value :\n",
    "        print(defender, \" wins this round!\")\n",
    "        if defender == b:\n",
    "            #if a in territories_b:\n",
    "            territories_b.append(a)\n",
    "        elif defender == c:\n",
    "            territories_c.append(a)\n",
    "    elif attacker_value > defender_value:\n",
    "        print(attacker, \" wins this round!\")\n",
    "        if attacker == b:\n",
    "            territories_b.append(a)\n",
    "        elif attacker == c:\n",
    "            territories_c.append(a)\n",
    "    print(b, \" now possesses \", territories_b)\n",
    "    print(c, \" now possesses\", territories_c)\n",
    "    print(\"---------------------\")"
   ]
  },
  {
   "cell_type": "code",
   "execution_count": null,
   "metadata": {},
   "outputs": [],
   "source": [
    "COUNTER = 0\n",
    "for i in plCES_B:\n",
    "    \n",
    "    IF I IN PLCES A:\n",
    "        COUNTER += 1\n",
    "        IF COUNTER == LEN():\n",
    "            BREAK\n",
    "    ELSE:\n",
    "        COUNTER = 0\n",
    "        \n",
    "    "
   ]
  },
  {
   "cell_type": "code",
   "execution_count": null,
   "metadata": {},
   "outputs": [],
   "source": [
    "counter = 0\n",
    "for t in territories_b:\n",
    "    if t in territories:\n",
    "        counter += 1\n",
    "        if counter == len (territories)\n",
    "            break\n",
    "    else:\n",
    "        counter = 0"
   ]
  },
  {
   "cell_type": "code",
   "execution_count": 3,
   "metadata": {},
   "outputs": [
    {
     "name": "stdout",
     "output_type": "stream",
     "text": [
      "sasa what territory do you wish to attack? Asgard\n",
      "Throwing the dice...\n",
      "sasa  gets  4\n",
      "dede  gets  3\n",
      "sasa  wins this round!\n",
      "sasa  now possesses  ['Asgard']\n",
      "dede  now possesses []\n",
      "---------------------\n",
      "dede what territory do you wish to attack? Midgard\n",
      "Throwing the dice...\n",
      "dede  gets  1\n",
      "sasa  gets  2\n",
      "sasa  wins this round!\n",
      "sasa  now possesses  ['Asgard', 'Midgard']\n",
      "dede  now possesses []\n",
      "---------------------\n",
      "sasa what territory do you wish to attack? Helheim\n",
      "Throwing the dice...\n",
      "sasa  gets  2\n",
      "dede  gets  1\n",
      "sasa  wins this round!\n",
      "sasa  now possesses  ['Asgard', 'Midgard', 'Helheim']\n",
      "dede  now possesses []\n",
      "---------------------\n"
     ]
    },
    {
     "ename": "KeyboardInterrupt",
     "evalue": "Interrupted by user",
     "output_type": "error",
     "traceback": [
      "\u001b[0;31m---------------------------------------------------------------------------\u001b[0m",
      "\u001b[0;31mKeyboardInterrupt\u001b[0m                         Traceback (most recent call last)",
      "\u001b[0;32m<ipython-input-3-d71cf88a1702>\u001b[0m in \u001b[0;36m<module>\u001b[0;34m\u001b[0m\n\u001b[1;32m     10\u001b[0m \u001b[0;34m\u001b[0m\u001b[0m\n\u001b[1;32m     11\u001b[0m         \u001b[0me\u001b[0m \u001b[0;34m=\u001b[0m \u001b[0;34m(\u001b[0m\u001b[0mstr\u001b[0m\u001b[0;34m(\u001b[0m\u001b[0mattacker\u001b[0m\u001b[0;34m)\u001b[0m \u001b[0;34m+\u001b[0m \u001b[0;34m\" what territory do you wish to attack? \"\u001b[0m\u001b[0;34m)\u001b[0m\u001b[0;34m\u001b[0m\u001b[0;34m\u001b[0m\u001b[0m\n\u001b[0;32m---> 12\u001b[0;31m         \u001b[0ma\u001b[0m \u001b[0;34m=\u001b[0m \u001b[0minput\u001b[0m\u001b[0;34m(\u001b[0m\u001b[0me\u001b[0m\u001b[0;34m)\u001b[0m\u001b[0;34m\u001b[0m\u001b[0;34m\u001b[0m\u001b[0m\n\u001b[0m\u001b[1;32m     13\u001b[0m         \u001b[0;32mif\u001b[0m \u001b[0ma\u001b[0m \u001b[0;32min\u001b[0m \u001b[0mterritories\u001b[0m\u001b[0;34m:\u001b[0m \u001b[0;31m#and not in attacker :\u001b[0m\u001b[0;34m\u001b[0m\u001b[0;34m\u001b[0m\u001b[0m\n\u001b[1;32m     14\u001b[0m             \u001b[0mbattle\u001b[0m\u001b[0;34m(\u001b[0m\u001b[0mp\u001b[0m\u001b[0;34m,\u001b[0m \u001b[0mdefender\u001b[0m\u001b[0;34m)\u001b[0m\u001b[0;34m\u001b[0m\u001b[0;34m\u001b[0m\u001b[0m\n",
      "\u001b[0;32m/opt/anaconda3/lib/python3.8/site-packages/ipykernel/kernelbase.py\u001b[0m in \u001b[0;36mraw_input\u001b[0;34m(self, prompt)\u001b[0m\n\u001b[1;32m    858\u001b[0m                 \u001b[0;34m\"raw_input was called, but this frontend does not support input requests.\"\u001b[0m\u001b[0;34m\u001b[0m\u001b[0;34m\u001b[0m\u001b[0m\n\u001b[1;32m    859\u001b[0m             )\n\u001b[0;32m--> 860\u001b[0;31m         return self._input_request(str(prompt),\n\u001b[0m\u001b[1;32m    861\u001b[0m             \u001b[0mself\u001b[0m\u001b[0;34m.\u001b[0m\u001b[0m_parent_ident\u001b[0m\u001b[0;34m,\u001b[0m\u001b[0;34m\u001b[0m\u001b[0;34m\u001b[0m\u001b[0m\n\u001b[1;32m    862\u001b[0m             \u001b[0mself\u001b[0m\u001b[0;34m.\u001b[0m\u001b[0m_parent_header\u001b[0m\u001b[0;34m,\u001b[0m\u001b[0;34m\u001b[0m\u001b[0;34m\u001b[0m\u001b[0m\n",
      "\u001b[0;32m/opt/anaconda3/lib/python3.8/site-packages/ipykernel/kernelbase.py\u001b[0m in \u001b[0;36m_input_request\u001b[0;34m(self, prompt, ident, parent, password)\u001b[0m\n\u001b[1;32m    902\u001b[0m             \u001b[0;32mexcept\u001b[0m \u001b[0mKeyboardInterrupt\u001b[0m\u001b[0;34m:\u001b[0m\u001b[0;34m\u001b[0m\u001b[0;34m\u001b[0m\u001b[0m\n\u001b[1;32m    903\u001b[0m                 \u001b[0;31m# re-raise KeyboardInterrupt, to truncate traceback\u001b[0m\u001b[0;34m\u001b[0m\u001b[0;34m\u001b[0m\u001b[0;34m\u001b[0m\u001b[0m\n\u001b[0;32m--> 904\u001b[0;31m                 \u001b[0;32mraise\u001b[0m \u001b[0mKeyboardInterrupt\u001b[0m\u001b[0;34m(\u001b[0m\u001b[0;34m\"Interrupted by user\"\u001b[0m\u001b[0;34m)\u001b[0m \u001b[0;32mfrom\u001b[0m \u001b[0;32mNone\u001b[0m\u001b[0;34m\u001b[0m\u001b[0;34m\u001b[0m\u001b[0m\n\u001b[0m\u001b[1;32m    905\u001b[0m             \u001b[0;32mexcept\u001b[0m \u001b[0mException\u001b[0m \u001b[0;32mas\u001b[0m \u001b[0me\u001b[0m\u001b[0;34m:\u001b[0m\u001b[0;34m\u001b[0m\u001b[0;34m\u001b[0m\u001b[0m\n\u001b[1;32m    906\u001b[0m                 \u001b[0mself\u001b[0m\u001b[0;34m.\u001b[0m\u001b[0mlog\u001b[0m\u001b[0;34m.\u001b[0m\u001b[0mwarning\u001b[0m\u001b[0;34m(\u001b[0m\u001b[0;34m\"Invalid Message:\"\u001b[0m\u001b[0;34m,\u001b[0m \u001b[0mexc_info\u001b[0m\u001b[0;34m=\u001b[0m\u001b[0;32mTrue\u001b[0m\u001b[0;34m)\u001b[0m\u001b[0;34m\u001b[0m\u001b[0;34m\u001b[0m\u001b[0m\n",
      "\u001b[0;31mKeyboardInterrupt\u001b[0m: Interrupted by user"
     ]
    }
   ],
   "source": [
    "while set(territories_b) != set(territories) and set(territories_c) != set(territories):\n",
    "    \n",
    "    for p in players:\n",
    "        attacker = p\n",
    "        if p == active_player:\n",
    "            defender = c\n",
    "            \n",
    "        elif p != active_player:\n",
    "            defender = b\n",
    "        \n",
    "        e = (str(attacker) + \" what territory do you wish to attack? \")\n",
    "        a = input(e)\n",
    "        if a in territories: #and not in attacker :\n",
    "            battle(p, defender)\n",
    "        else:\n",
    "            print(\"Please choose one of the following territories\", territories)\n",
    "            \n"
   ]
  },
  {
   "cell_type": "code",
   "execution_count": 5,
   "metadata": {},
   "outputs": [
    {
     "name": "stdout",
     "output_type": "stream",
     "text": [
      "['Asgard', 'Midgard', 'Helheim']\n",
      "['Asgard', 'Helheim', 'Midgard']\n"
     ]
    }
   ],
   "source": [
    "print(territories_b)\n",
    "print(territories)"
   ]
  },
  {
   "cell_type": "code",
   "execution_count": null,
   "metadata": {},
   "outputs": [],
   "source": [
    "if set(territories_c) == set(territories):\n",
    "    print(\"you won\")"
   ]
  },
  {
   "cell_type": "code",
   "execution_count": null,
   "metadata": {},
   "outputs": [],
   "source": [
    "#working ok\n",
    "def battle(attacker, defender):\n",
    "    print (\"Throwing the dice...\")\n",
    "    attacker_value=random.randint(1,6)\n",
    "    defender_value=random.randint(1,6)\n",
    "    time.sleep(1.5)\n",
    "    print(attacker, \" gets \", attacker_value)\n",
    "    print(defender, \" gets \", defender_value)\n",
    "    if defender_value > attacker_value or defender_value == attacker_value :\n",
    "        print(defender, \" wins this round!\")\n",
    "        if defender == b:\n",
    "            territories_b.append(a)\n",
    "        elif defender == c:\n",
    "            territories_c.append(a)\n",
    "    elif attacker_value > defender_value:\n",
    "        print(attacker, \" wins this round!\")\n",
    "        if attacker == b:\n",
    "            territories_b.append(a)\n",
    "        elif attacker == c:\n",
    "            territories_c.append(a)\n",
    "    print(b, \" now possesses \", territories_b)\n",
    "    print(c, \" now possesses\", territories_c)\n",
    "    print(\"---------------------\")"
   ]
  },
  {
   "cell_type": "code",
   "execution_count": null,
   "metadata": {},
   "outputs": [],
   "source": [
    "#working ok\n",
    "\n",
    "while territories_b.sort() != territories and territories_c.sort() != territories:\n",
    "    \n",
    "    for p in players:\n",
    "        attacker = p\n",
    "        if p == active_player:\n",
    "            defender = c\n",
    "            \n",
    "        elif p != active_player:\n",
    "            defender = b\n",
    "        \n",
    "        e = (str(attacker) + \" what territory do you wish to attack? \")\n",
    "        a = input(e)\n",
    "        if a in territories:\n",
    "            battle(p, defender)\n",
    "        else:\n",
    "            print(\"Please choose one of the following territories\", territories)"
   ]
  }
 ],
 "metadata": {
  "kernelspec": {
   "display_name": "Python 3",
   "language": "python",
   "name": "python3"
  },
  "language_info": {
   "codemirror_mode": {
    "name": "ipython",
    "version": 3
   },
   "file_extension": ".py",
   "mimetype": "text/x-python",
   "name": "python",
   "nbconvert_exporter": "python",
   "pygments_lexer": "ipython3",
   "version": "3.8.3"
  }
 },
 "nbformat": 4,
 "nbformat_minor": 4
}
