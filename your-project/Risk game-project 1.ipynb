{
 "cells": [
  {
   "cell_type": "markdown",
   "metadata": {},
   "source": [
    "# Risk game (dumb version)"
   ]
  },
  {
   "cell_type": "code",
   "execution_count": null,
   "metadata": {},
   "outputs": [],
   "source": []
  },
  {
   "cell_type": "code",
   "execution_count": 1,
   "metadata": {},
   "outputs": [
    {
     "name": "stdout",
     "output_type": "stream",
     "text": [
      "Please insert Player 1 name: elena\n",
      "Please insert Player 2 name: sara\n"
     ]
    }
   ],
   "source": [
    "b=input(\"Please insert Player 1 name: \")\n",
    "c=input(\"Please insert Player 2 name: \")"
   ]
  },
  {
   "cell_type": "code",
   "execution_count": 2,
   "metadata": {},
   "outputs": [],
   "source": [
    "import time\n",
    "import random\n",
    "\n",
    "territories=[\"asgard\", \"helheim\", \"midgard\"]\n",
    "territories_b=[]\n",
    "territories_c=[]\n",
    "\n",
    "players=[b, c]\n",
    "g = True\n",
    "\n",
    "active_player=b"
   ]
  },
  {
   "cell_type": "code",
   "execution_count": 3,
   "metadata": {},
   "outputs": [],
   "source": [
    "def battle(attacker, defender):\n",
    "    print (\"Throwing the dice...\")\n",
    "    attacker_value=random.randint(1,6)\n",
    "    defender_value=random.randint(1,6)\n",
    "    time.sleep(1.5)\n",
    "    print(attacker, \" gets \", attacker_value)\n",
    "    print(defender, \" gets \", defender_value)\n",
    "    if defender_value > attacker_value or defender_value == attacker_value :   # if defender wins\n",
    "        print(defender, \" wins this round!\")\n",
    "        if defender == b:            \n",
    "            if a not in territories_b and a not in territories_c:\n",
    "                territories_b.append(a)\n",
    "            elif a not in territories_b and a in territories_c:\n",
    "                territories_b.append(a)\n",
    "                territories_c.remove(a)            \n",
    "            elif a in territories_b: \n",
    "                print(b, \"already owns this territory\")\n",
    "            \n",
    "        elif defender == c:\n",
    "            if a not in territories_c and a not in territories_b:\n",
    "                territories_c.append(a)\n",
    "            elif a not in territories_c and a in territories_b:\n",
    "                territories_c.append(a)\n",
    "                territories_b.remove(a)            \n",
    "            elif a in territories_c: \n",
    "                print(c, \"already owns this territory\")           \n",
    "            \n",
    "            \n",
    "    elif attacker_value > defender_value:\n",
    "        print(attacker, \" wins this round!\")\n",
    "        if attacker == b:\n",
    "            if a not in territories_b and a not in territories_c:\n",
    "                territories_b.append(a)\n",
    "            elif a not in territories_b and a in territories_c:\n",
    "                territories_b.append(a)\n",
    "                territories_c.remove(a)            \n",
    "            elif a in territories_b: \n",
    "                print(b, \"already owns this territory\")\n",
    "            \n",
    "        elif attacker == c:\n",
    "            if a not in territories_c and a not in territories_b:\n",
    "                territories_c.append(a)\n",
    "            elif a not in territories_c and a in territories_b:\n",
    "                territories_c.append(a)\n",
    "                territories_b.remove(a)            \n",
    "            elif a in territories_c: \n",
    "                print(c, \"already owns this territory\")\n",
    "    print(b, \" now possesses \", territories_b)\n",
    "    print(c, \" now possesses\", territories_c)\n",
    "    print(\"---------------------\")"
   ]
  },
  {
   "cell_type": "code",
   "execution_count": 4,
   "metadata": {},
   "outputs": [
    {
     "name": "stdout",
     "output_type": "stream",
     "text": [
      "elena what territory do you wish to attack? asgard\n",
      "Throwing the dice...\n",
      "elena  gets  3\n",
      "sara  gets  5\n",
      "sara  wins this round!\n",
      "elena  now possesses  []\n",
      "sara  now possesses ['asgard']\n",
      "---------------------\n",
      "Do you want to play another battle? y/ny\n",
      "sara what territory do you wish to attack? midgard\n",
      "Throwing the dice...\n",
      "sara  gets  4\n",
      "elena  gets  5\n",
      "elena  wins this round!\n",
      "elena  now possesses  ['midgard']\n",
      "sara  now possesses ['asgard']\n",
      "---------------------\n",
      "Do you want to play another battle? y/ny\n",
      "elena what territory do you wish to attack? asgard\n",
      "Throwing the dice...\n",
      "elena  gets  4\n",
      "sara  gets  4\n",
      "sara  wins this round!\n",
      "sara already owns this territory\n",
      "elena  now possesses  ['midgard']\n",
      "sara  now possesses ['asgard']\n",
      "---------------------\n",
      "Do you want to play another battle? y/ny\n",
      "sara what territory do you wish to attack? midgard\n",
      "Throwing the dice...\n",
      "sara  gets  2\n",
      "elena  gets  5\n",
      "elena  wins this round!\n",
      "elena already owns this territory\n",
      "elena  now possesses  ['midgard']\n",
      "sara  now possesses ['asgard']\n",
      "---------------------\n",
      "Do you want to play another battle? y/nn\n"
     ]
    }
   ],
   "source": [
    "while g == True:\n",
    "    for p in players:\n",
    "        attacker = p\n",
    "        if p == active_player:\n",
    "            defender = c\n",
    "\n",
    "        elif p != active_player:\n",
    "            defender = b\n",
    "\n",
    "        e = (str(attacker) + \" what territory do you wish to attack? \")\n",
    "        a = input(e)\n",
    "        if a in territories: \n",
    "            battle(p, defender)\n",
    "        else:\n",
    "            print(\"Please choose one of the following territories\", territories)\n",
    "\n",
    "        f = input(\"Do you want to play another battle? y/n\")\n",
    "        if f == \"y\":\n",
    "            g = True\n",
    "        elif f == \"n\":\n",
    "            g = False\n",
    "    "
   ]
  },
  {
   "cell_type": "code",
   "execution_count": null,
   "metadata": {},
   "outputs": [],
   "source": []
  }
 ],
 "metadata": {
  "kernelspec": {
   "display_name": "Python 3",
   "language": "python",
   "name": "python3"
  },
  "language_info": {
   "codemirror_mode": {
    "name": "ipython",
    "version": 3
   },
   "file_extension": ".py",
   "mimetype": "text/x-python",
   "name": "python",
   "nbconvert_exporter": "python",
   "pygments_lexer": "ipython3",
   "version": "3.8.3"
  }
 },
 "nbformat": 4,
 "nbformat_minor": 4
}
